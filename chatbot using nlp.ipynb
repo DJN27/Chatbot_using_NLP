{
 "cells": [
  {
   "cell_type": "markdown",
   "id": "0d54e3a7-0f01-4b3e-8fbd-9c4fe34751bc",
   "metadata": {},
   "source": [
    "# Implementation of ChatBot using NLP"
   ]
  },
  {
   "cell_type": "code",
   "execution_count": 2,
   "id": "48befd1d-aba4-452d-bce1-17424bdeacea",
   "metadata": {},
   "outputs": [],
   "source": [
    "# Importing necessary libraries\n",
    "import nltk\n",
    "import random\n",
    "import os\n",
    "import ssl\n",
    "import streamlit as st\n",
    "from sklearn.feature_extraction.text import TfidfVectorizer\n",
    "from sklearn.linear_model import LogisticRegression"
   ]
  },
  {
   "cell_type": "code",
   "execution_count": 3,
   "id": "56a6c3fc-17d8-477b-b0b4-8ef7492bf31e",
   "metadata": {},
   "outputs": [
    {
     "name": "stderr",
     "output_type": "stream",
     "text": [
      "[nltk_data] Downloading package punkt to\n",
      "[nltk_data]     C:\\Users\\dhany\\AppData\\Roaming\\nltk_data...\n",
      "[nltk_data]   Package punkt is already up-to-date!\n"
     ]
    },
    {
     "data": {
      "text/plain": [
       "True"
      ]
     },
     "execution_count": 3,
     "metadata": {},
     "output_type": "execute_result"
    }
   ],
   "source": [
    "ssl._create_default_https_context=ssl._create_unverified_context\n",
    "nltk.data.path.append(os.path.abspath('nltk_data'))\n",
    "nltk.download('punkt')"
   ]
  },
  {
   "cell_type": "code",
   "execution_count": null,
   "id": "f59b7db4-1962-4707-aa35-280214c51e1a",
   "metadata": {},
   "outputs": [],
   "source": [
    "intents=[\n",
    "    {\n",
    "        'tag':'greeting',\n",
    "        'patterns':['Hi','Hello','Hey','What\\'s up', 'How are you'],\n",
    "        'responses':['Hi there','Hello','Hey','Nothing much','I\\'m fine, thank you']\n",
    "    },\n",
    "    {\n",
    "        'tag':'goodbye',\n",
    "        'patterns':['Bye','See you later','Goodbye','Take care'],\n",
    "        'responses':['Goodbye','See ya','Buh-bye']\n",
    "    },\n",
    "    {\n",
    "        \"tag\":\"thanks\",\n",
    "        \"patterns\":[\"Thank you\",\"Thanks\",\"Thanks a lot\",\"I appreciate it\"],\n",
    "        \"responses\":[\"You're welcome\",\"No problem\",\"Glad I could help\"]\n",
    "    },\n",
    "    {\n",
    "        \"tag\":\"about\",\n",
    "        \"patterns\":[\"What can you do\",\"Who are you\",\"What are you\",\"What is your purpose\"],\n",
    "        \"responses\":[\"I am a chatbot\",\"My purpose is to assist you\",\"I can help you with various queries\"]\n",
    "    },\n",
    "    {\n",
    "        \"tag\":\"budget\",\n",
    "        \"patterns\":[\"How do I set a budget?\",\"What is a good monthly budget?\",\"Can you help me plan my expenses?\"],\n",
    "        \"responses\":[\"A good budget depends on your income and expenses\",\"Track your spending to create an effective budget\",\"I can help you with budgeting tips\"]\n",
    "    },\n",
    "    {\n",
    "        \"tag\":\"credit_score\",\n",
    "        \"patterns\":[\"What is a credit score?\",\"How can I improve my credit score?\",\"Why is my credit score important?\"],\n",
    "        \"responses\":[\"A credit score is a measure of your creditworthiness\",\"Pay bills on time to improve your credit score\",\"A good credit score helps with loan approvals\"]\n",
    "    },\n",
    "    {\n",
    "        \"tag\":\"loan_eligibility\",\n",
    "        \"patterns\":[\"Am I eligible for a loan?\",\"What do I need to qualify for a loan?\",\"How do banks decide loan eligibility?\"],\n",
    "        \"responses\":[\"Loan eligibility depends on your income and credit score\",\"You usually need a stable income and good credit score\",\"Each bank has different loan criteria\"]\n",
    "    },\n",
    "    {\n",
    "        \"tag\":\"interest_rates\",\n",
    "        \"patterns\":[\"What are current interest rates?\",\"How does interest work on a loan?\",\"What is a good interest rate for a loan?\"],\n",
    "        \"responses\":[\"Interest rates vary by lender and loan type\",\"A lower interest rate means lower costs\",\"Compare rates before choosing a loan\"]\n",
    "    },\n",
    "    {\n",
    "        \"tag\":\"investment\",\n",
    "        \"patterns\":[\"How do I start investing?\",\"What are good investments?\",\"Is investing in stocks a good idea?\"],\n",
    "        \"responses\":[\"Start by understanding risk and return\",\"Stocks, bonds, and real estate are common investments\",\"Investing can grow your wealth over time\"]\n",
    "    },\n",
    "    {\n",
    "        \"tag\":\"savings\",\n",
    "        \"patterns\":[\"How much should I save?\",\"What is the best way to save money?\",\"Can you suggest a savings plan?\"],\n",
    "        \"responses\":[\"Aim to save at least 20% of your income\",\"Create a separate savings account\",\"Automate savings to make it easier\"]\n",
    "    },\n",
    "    {\n",
    "        \"tag\":\"debt_management\",\n",
    "        \"patterns\":[\"How do I manage my debt?\",\"What is the best way to pay off loans?\",\"Should I consolidate my debt?\"],\n",
    "        \"responses\":[\"Pay high-interest debt first\",\"Consider debt consolidation if it lowers your rates\",\"Stick to a repayment plan\"]\n",
    "    },\n",
    "    {\n",
    "        \"tag\":\"insurance\",\n",
    "        \"patterns\":[\"What types of insurance do I need?\",\"How does health insurance work?\",\"Is life insurance necessary?\"],\n",
    "        \"responses\":[\"Health, life, and auto insurance are common\",\"Insurance protects against financial risk\",\"Choose a policy based on your needs\"]\n",
    "    },\n",
    "    {\n",
    "        \"tag\":\"fraud_prevention\",\n",
    "        \"patterns\":[\"How do I prevent financial fraud?\",\"What are signs of a scam?\",\"How do I report fraud?\"],\n",
    "        \"responses\":[\"Be cautious of unsolicited requests for money\",\"Check for secure websites before entering information\",\"Report fraud to your bank or authorities\"]\n",
    "    },\n",
    "    {\n",
    "        \"tag\":\"taxation\",\n",
    "        \"patterns\":[\"How do I file my taxes?\",\"What are tax deductions?\",\"Do I need an accountant for taxes?\"],\n",
    "        \"responses\":[\"Use tax software or consult a professional\",\"Deductions lower taxable income\",\"An accountant can help with complex tax situations\"]\n",
    "    }\n",
    "]"
   ]
  }
 ],
 "metadata": {
  "kernelspec": {
   "display_name": "Python 3 (ipykernel)",
   "language": "python",
   "name": "python3"
  },
  "language_info": {
   "codemirror_mode": {
    "name": "ipython",
    "version": 3
   },
   "file_extension": ".py",
   "mimetype": "text/x-python",
   "name": "python",
   "nbconvert_exporter": "python",
   "pygments_lexer": "ipython3",
   "version": "3.12.3"
  }
 },
 "nbformat": 4,
 "nbformat_minor": 5
}
